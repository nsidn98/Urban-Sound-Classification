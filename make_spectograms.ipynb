{
 "cells": [
  {
   "cell_type": "code",
   "execution_count": null,
   "metadata": {},
   "outputs": [],
   "source": [
    "'''This module is for creating the spectograms from the .wav files'''\n",
    "import glob\n",
    "import os\n",
    "import librosa\n",
    "import numpy as np\n",
    "import matplotlib.pyplot as plt\n",
    "import librosa.display\n",
    "from matplotlib.pyplot import specgram\n",
    "%matplotlib inline"
   ]
  },
  {
   "cell_type": "code",
   "execution_count": null,
   "metadata": {},
   "outputs": [],
   "source": [
    "filepath='/Users/siddharthnayak/Downloads/train/Train'\n",
    "filepath_save='/Users/siddharthnayak/Downloads/plots'"
   ]
  },
  {
   "cell_type": "code",
   "execution_count": null,
   "metadata": {},
   "outputs": [],
   "source": [
    "sound_names=[]\n",
    "for file in os.listdir(filepath):\n",
    "    if file!='.DS_Store':\n",
    "        name=file.split('.')[0]\n",
    "        sound_names.append(name)"
   ]
  },
  {
   "cell_type": "code",
   "execution_count": null,
   "metadata": {},
   "outputs": [],
   "source": [
    "def plot_waves(raw_sounds,sound_names,filepath):\n",
    "    i=0\n",
    "    for f in raw_sounds:\n",
    "        i+=1\n",
    "        #plt.subplot(len(raw_sounds),1,i)\n",
    "        librosa.display.waveplot(np.array(f),sr=22050)\n",
    "        filename=sound_names[i-1]+'.png'\n",
    "        filename=os.path.join(filepath,filename)\n",
    "        plt.savefig(filename)\n",
    "        print(i)\n",
    "        plt.show()"
   ]
  },
  {
   "cell_type": "code",
   "execution_count": null,
   "metadata": {},
   "outputs": [],
   "source": [
    "def plot_specgram(raw_sounds,sound_names,filepath):\n",
    "    i = 0\n",
    "    for f in raw_sounds:\n",
    "        i += 1\n",
    "        #plt.subplot(len(raw_sounds),1,i)\n",
    "        specgram(np.array(f), Fs=22050)\n",
    "        filename=sound_names[i-1]+'.spec.png'\n",
    "        #filename=os.path.join(filepath,filename)\n",
    "        plt.savefig(filename)\n",
    "        print(i)\n",
    "        plt.show()"
   ]
  },
  {
   "cell_type": "code",
   "execution_count": null,
   "metadata": {},
   "outputs": [],
   "source": [
    "raw_sounds=[]\n",
    "i=0\n",
    "for fp in os.listdir(filepath):\n",
    "    if fp!= '.DS_Store':\n",
    "        filename=os.path.join(filepath,fp)\n",
    "        print(filename)\n",
    "        X,sr = librosa.load(filename)\n",
    "        raw_sounds.append(X)\n",
    "        print(i)\n",
    "        i+=1\n",
    "        "
   ]
  },
  {
   "cell_type": "code",
   "execution_count": null,
   "metadata": {},
   "outputs": [],
   "source": [
    "plot_waves(raw_sounds,sound_names,filepath_save)"
   ]
  },
  {
   "cell_type": "code",
   "execution_count": null,
   "metadata": {},
   "outputs": [],
   "source": [
    "#plot_specgram(raw_sounds,sound_names)"
   ]
  },
  {
   "cell_type": "code",
   "execution_count": null,
   "metadata": {},
   "outputs": [],
   "source": []
  }
 ],
 "metadata": {
  "kernelspec": {
   "display_name": "tensorflow",
   "language": "python",
   "name": "tensorflow"
  },
  "language_info": {
   "codemirror_mode": {
    "name": "ipython",
    "version": 3
   },
   "file_extension": ".py",
   "mimetype": "text/x-python",
   "name": "python",
   "nbconvert_exporter": "python",
   "pygments_lexer": "ipython3",
   "version": "3.6.3"
  }
 },
 "nbformat": 4,
 "nbformat_minor": 2
}
